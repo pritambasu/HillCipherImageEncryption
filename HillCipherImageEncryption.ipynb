{
 "cells": [
  {
   "cell_type": "code",
   "execution_count": 1,
   "metadata": {},
   "outputs": [
    {
     "name": "stdout",
     "output_type": "stream",
     "text": [
      "(512, 512, 3)\n"
     ]
    },
    {
     "name": "stderr",
     "output_type": "stream",
     "text": [
      "Lossy conversion from float64 to uint8. Range [0.0, 255.0]. Convert image to uint8 prior to saving to suppress this warning.\n"
     ]
    },
    {
     "name": "stdout",
     "output_type": "stream",
     "text": [
      "(520, 520, 3)\n"
     ]
    }
   ],
   "source": [
    "import imageio\n",
    "import numpy as np\n",
    "import cv2\n",
    "\n",
    "#---------------Read Image to Encrypt---------------\n",
    "img = imageio.imread('OUTPUTIMAGES/baboonO.png')\n",
    "print(img.shape)\n",
    "nl = l = img.shape[0]\n",
    "nw = w = img.shape[1]\n",
    "n = 10\n",
    "if l%n:\n",
    "    nl = (int((l - 1) / n) + 1) * n\n",
    "if w%n:\n",
    "    nw = (int((w - 1) / n) + 1) * n\n",
    "img2 = np.zeros((nl,nw,3))\n",
    "img2[:l,:w,:] += img                          #Making the picture to have square dimensions\n",
    "\n",
    "#-------------Generating Encryption Key-------------\n",
    "Mod = 256\n",
    "k = 23                                                          #Key for Encryption\n",
    "d = np.random.randint(256, size = (int(n/2),int(n/2)))          #Arbitrary Matrix, should be saved as Key also\n",
    "I = np.identity(int(n/2))\n",
    "a = np.mod(-d,Mod)\n",
    "\n",
    "b = np.mod((k * np.mod(I - a,Mod)),Mod)\n",
    "k = np.mod(np.power(k,127),Mod)\n",
    "c = np.mod((I + a),Mod)\n",
    "c = np.mod(c * k, Mod)\n",
    "A1 = np.concatenate((a,b), axis = 1)\n",
    "A2 = np.concatenate((c,d), axis = 1)\n",
    "A = np.concatenate((A1,A2), axis = 0)\n",
    "Test = np.mod(np.matmul(np.mod(A,Mod),np.mod(A,Mod)),Mod)       #making sure that A is an involutory matrix, A*A = I\n",
    "# Saving key as an image\n",
    "key = np.zeros((n + 1, n))\n",
    "key[:n, :n] += A\n",
    "# Adding the dimension of the original image within the key\n",
    "# Elements of the matrix should be below 256\n",
    "key[-1][0] = int(l / Mod)\n",
    "key[-1][1] = l % Mod\n",
    "key[-1][2] = int(w / Mod)\n",
    "key[-1][3] = w % Mod\n",
    "#imageio.imwrite(\"Key.png\", key)\n",
    "\n",
    "#-------------Encrypting-------------\n",
    "Encrypted = np.zeros((nl,nw,3))\n",
    "for j in range(int(nw/n)):\n",
    "    for i in range(int(nl/n)):\n",
    "        Enc1 = (np.matmul(A % Mod,img2[i * n:(i + 1) * n, j * n:(j + 1) * n,0] % Mod)) % Mod\n",
    "        Enc1 = np.matmul(A % Mod, np.transpose(Enc1)) % Mod\n",
    "        Enc2 = (np.matmul(A % Mod,img2[i * n:(i + 1) * n, j * n:(j + 1) * n,1] % Mod)) % Mod\n",
    "        Enc2 = np.matmul(A % Mod, np.transpose(Enc2)) % Mod\n",
    "        Enc3 = (np.matmul(A % Mod,img2[i * n:(i + 1) * n, j * n:(j + 1) * n,2] % Mod)) % Mod\n",
    "        Enc3 = np.matmul(A % Mod, np.transpose(Enc3)) % Mod        \n",
    "        \n",
    "        Enc1 = np.resize(Enc1,(Enc1.shape[0],Enc1.shape[1],1))\n",
    "        Enc2 = np.resize(Enc2,(Enc2.shape[0],Enc2.shape[1],1))\n",
    "        Enc3 = np.resize(Enc3,(Enc3.shape[0],Enc3.shape[1],1))\n",
    "        Encrypted[i * n:(i + 1) * n, j * n:(j + 1) * n] += np.concatenate((Enc1,Enc2,Enc3), axis = 2)                #Enc = A * image\n",
    "\n",
    "imageio.imwrite('EncryptedBaboon.png',Encrypted)\n",
    "img2 = imageio.imread('EncryptedBaboon.png')\n",
    "print(img2.shape)"
   ]
  },
  {
   "cell_type": "code",
   "execution_count": 8,
   "metadata": {},
   "outputs": [
    {
     "name": "stderr",
     "output_type": "stream",
     "text": [
      "Lossy conversion from float64 to uint8. Range [1.0, 255.0]. Convert image to uint8 prior to saving to suppress this warning.\n"
     ]
    },
    {
     "name": "stdout",
     "output_type": "stream",
     "text": [
      "HEXAGEEKS\n"
     ]
    }
   ],
   "source": [
    "\n",
    "#-------------Decrypting-------------\n",
    "Enc = imageio.imread('Encrypted.png')                           #Reading Encrypted Image to Decrypt\n",
    "nl = int(Enc.shape[0])\n",
    "nw = int(Enc.shape[1])\n",
    "# Loading the key\n",
    "#A = imageio.imread('Key.png')\n",
    "A = key\n",
    "n = int(A.shape[0] - 1)\n",
    "l = int(A[-1][0] * Mod + A[-1][1]) # The length of the original image \n",
    "w = int(A[-1][2] * Mod + A[-1][3]) # The width of the original image\n",
    "A = A[0:-1]\n",
    "Decrypted = np.zeros((nl,nw,3))\n",
    "for j in range(int(nw/n)):\n",
    "    for i in range(int(nl/n)):\n",
    "        Dec1 = (np.matmul(A % Mod,Enc[i * n:(i + 1) * n, j * n:(j + 1) * n,0] % Mod)) % Mod\n",
    "        Dec1 = np.matmul(A % Mod, np.transpose(Dec1)) % Mod\n",
    "        Dec2 = (np.matmul(A % Mod,Enc[i * n:(i + 1) * n, j * n:(j + 1) * n,1] % Mod)) % Mod\n",
    "        Dec2 = np.matmul(A % Mod, np.transpose(Dec2)) % Mod\n",
    "        Dec3 = (np.matmul(A % Mod,Enc[i * n:(i + 1) * n, j * n:(j + 1) * n,2] % Mod)) % Mod\n",
    "        Dec3 = np.matmul(A % Mod, np.transpose(Dec3)) % Mod\n",
    "        \n",
    "        Dec1 = np.resize(Dec1,(Dec1.shape[0],Dec1.shape[1],1))\n",
    "        Dec2 = np.resize(Dec2,(Dec2.shape[0],Dec2.shape[1],1))\n",
    "        Dec3 = np.resize(Dec3,(Dec3.shape[0],Dec3.shape[1],1))\n",
    "        Dec = np.concatenate((Dec1,Dec2,Dec3), axis = 2)                #Dec = A * Enc\n",
    "        Decrypted[i * n:(i + 1) * n, j * n:(j + 1) * n] += Dec\n",
    "\n",
    "Final = Decrypted[:l,:w,:]                                            #Returning Dimensions to the real image\n",
    "\n",
    "imageio.imwrite('Decrypted.png',Final)\n",
    "\n",
    "print(\"HEXAGEEKS\")"
   ]
  },
  {
   "cell_type": "code",
   "execution_count": 3,
   "metadata": {},
   "outputs": [],
   "source": [
    "import imageio"
   ]
  }
 ],
 "metadata": {
  "kernelspec": {
   "display_name": "Python 3",
   "language": "python",
   "name": "python3"
  },
  "language_info": {
   "codemirror_mode": {
    "name": "ipython",
    "version": 3
   },
   "file_extension": ".py",
   "mimetype": "text/x-python",
   "name": "python",
   "nbconvert_exporter": "python",
   "pygments_lexer": "ipython3",
   "version": "3.6.5"
  }
 },
 "nbformat": 4,
 "nbformat_minor": 2
}
